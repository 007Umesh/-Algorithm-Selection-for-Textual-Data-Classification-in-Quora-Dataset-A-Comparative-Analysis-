{
 "cells": [
  {
   "cell_type": "markdown",
   "id": "e0f0cfd4-dd9d-4b9f-833c-d036b291bf11",
   "metadata": {},
   "source": [
    "## \"Algorithm Selection for Textual Data Classification in Quora Dataset: A Comparative Analysis of Logistic Regression, SVM, and Decision Trees\""
   ]
  },
  {
   "cell_type": "markdown",
   "id": "aae1fb16-b812-4567-9507-b943aa736479",
   "metadata": {
    "tags": []
   },
   "source": [
    "### Importing Libraries ###\n",
    "**we import necessary libraries like NumPy, Pandas, and NLTK.**\n",
    "- numpy: A library for scientific computing with Python.\n",
    "- pandas: A library for data analysis and manipulation.\n",
    "- nltk: A library for natural language processing.\n",
    "- stopwords: A list of common words that are not considered to be informative in natural language processing tasks.\n",
    "- string: A library for manipulating strings in Python."
   ]
  },
  {
   "cell_type": "code",
   "execution_count": 1,
   "id": "f4082ea8-685c-4302-ab92-9fd2bc830c51",
   "metadata": {
    "tags": []
   },
   "outputs": [],
   "source": [
    "import numpy as np\n",
    "import pandas as pd\n",
    "import nltk\n",
    "from nltk.corpus import stopwords\n",
    "import string"
   ]
  },
  {
   "cell_type": "markdown",
   "id": "a01d4070-5098-457a-b600-305e455f79f5",
   "metadata": {},
   "source": [
    "**This code checks the paths where NLTK data is stored. NLTK (Natural Language Toolkit) is used for various NLP tasks, and it requires data files to be downloaded.**"
   ]
  },
  {
   "cell_type": "code",
   "execution_count": 2,
   "id": "60a3afd1-ad06-493b-81af-eb54a6eff7ef",
   "metadata": {
    "tags": []
   },
   "outputs": [
    {
     "name": "stdout",
     "output_type": "stream",
     "text": [
      "['C:\\\\Users\\\\Umesh/nltk_data', 'C:\\\\Users\\\\Umesh\\\\anaconda3\\\\nltk_data', 'C:\\\\Users\\\\Umesh\\\\anaconda3\\\\share\\\\nltk_data', 'C:\\\\Users\\\\Umesh\\\\anaconda3\\\\lib\\\\nltk_data', 'C:\\\\Users\\\\Umesh\\\\AppData\\\\Roaming\\\\nltk_data', 'C:\\\\nltk_data', 'D:\\\\nltk_data', 'E:\\\\nltk_data']\n"
     ]
    }
   ],
   "source": [
    "import nltk\n",
    "print(nltk.data.path)"
   ]
  },
  {
   "cell_type": "markdown",
   "id": "174fd33e-28db-4c8b-82a8-7d1fca92cf3d",
   "metadata": {},
   "source": [
    "### Loading Data ###\n",
    "**Here, we're loading our dataset from a CSV file named \"question2_.csv\" into a Pandas DataFrame named \"df.\"**"
   ]
  },
  {
   "cell_type": "code",
   "execution_count": 3,
   "id": "ff263631-d82b-42c6-98a5-60b7b7bd7b67",
   "metadata": {
    "tags": []
   },
   "outputs": [
    {
     "data": {
      "text/html": [
       "<div>\n",
       "<style scoped>\n",
       "    .dataframe tbody tr th:only-of-type {\n",
       "        vertical-align: middle;\n",
       "    }\n",
       "\n",
       "    .dataframe tbody tr th {\n",
       "        vertical-align: top;\n",
       "    }\n",
       "\n",
       "    .dataframe thead th {\n",
       "        text-align: right;\n",
       "    }\n",
       "</style>\n",
       "<table border=\"1\" class=\"dataframe\">\n",
       "  <thead>\n",
       "    <tr style=\"text-align: right;\">\n",
       "      <th></th>\n",
       "      <th>id</th>\n",
       "      <th>question1</th>\n",
       "      <th>question2</th>\n",
       "      <th>is_duplicate</th>\n",
       "    </tr>\n",
       "  </thead>\n",
       "  <tbody>\n",
       "    <tr>\n",
       "      <th>0</th>\n",
       "      <td>0</td>\n",
       "      <td>What is the step by step guide to invest in sh...</td>\n",
       "      <td>What is the step by step guide to invest in sh...</td>\n",
       "      <td>0</td>\n",
       "    </tr>\n",
       "    <tr>\n",
       "      <th>1</th>\n",
       "      <td>1</td>\n",
       "      <td>What is the story of Kohinoor (Koh-i-Noor) Dia...</td>\n",
       "      <td>What would happen if the Indian government sto...</td>\n",
       "      <td>0</td>\n",
       "    </tr>\n",
       "    <tr>\n",
       "      <th>2</th>\n",
       "      <td>2</td>\n",
       "      <td>How can I increase the speed of my internet co...</td>\n",
       "      <td>How can Internet speed be increased by hacking...</td>\n",
       "      <td>0</td>\n",
       "    </tr>\n",
       "    <tr>\n",
       "      <th>3</th>\n",
       "      <td>3</td>\n",
       "      <td>Why am I mentally very lonely? How can I solve...</td>\n",
       "      <td>Find the remainder when [math]23^{24}[/math] i...</td>\n",
       "      <td>0</td>\n",
       "    </tr>\n",
       "    <tr>\n",
       "      <th>4</th>\n",
       "      <td>4</td>\n",
       "      <td>Which one dissolve in water quikly sugar, salt...</td>\n",
       "      <td>Which fish would survive in salt water?</td>\n",
       "      <td>0</td>\n",
       "    </tr>\n",
       "    <tr>\n",
       "      <th>...</th>\n",
       "      <td>...</td>\n",
       "      <td>...</td>\n",
       "      <td>...</td>\n",
       "      <td>...</td>\n",
       "    </tr>\n",
       "    <tr>\n",
       "      <th>9996</th>\n",
       "      <td>9996</td>\n",
       "      <td>Stphen william hawking?</td>\n",
       "      <td>What are the differences between SM, YG and JY...</td>\n",
       "      <td>0</td>\n",
       "    </tr>\n",
       "    <tr>\n",
       "      <th>9997</th>\n",
       "      <td>9997</td>\n",
       "      <td>Mathematical Puzzles: What is () + () + () = 3...</td>\n",
       "      <td>What are the steps to solve this equation: [ma...</td>\n",
       "      <td>0</td>\n",
       "    </tr>\n",
       "    <tr>\n",
       "      <th>9998</th>\n",
       "      <td>9998</td>\n",
       "      <td>Is IMS noida good for BCA?</td>\n",
       "      <td>How good is IMS Noida for studying BCA?</td>\n",
       "      <td>1</td>\n",
       "    </tr>\n",
       "    <tr>\n",
       "      <th>9999</th>\n",
       "      <td>9999</td>\n",
       "      <td>What are the most respected and informative te...</td>\n",
       "      <td>What are Caltech's required and recommended te...</td>\n",
       "      <td>0</td>\n",
       "    </tr>\n",
       "    <tr>\n",
       "      <th>10000</th>\n",
       "      <td>10000</td>\n",
       "      <td>Is it safe for a woman to travel alone in Viet...</td>\n",
       "      <td>Is it safe for a woman to travel alone in Japan?</td>\n",
       "      <td>0</td>\n",
       "    </tr>\n",
       "  </tbody>\n",
       "</table>\n",
       "<p>10001 rows × 4 columns</p>\n",
       "</div>"
      ],
      "text/plain": [
       "          id                                          question1  \\\n",
       "0          0  What is the step by step guide to invest in sh...   \n",
       "1          1  What is the story of Kohinoor (Koh-i-Noor) Dia...   \n",
       "2          2  How can I increase the speed of my internet co...   \n",
       "3          3  Why am I mentally very lonely? How can I solve...   \n",
       "4          4  Which one dissolve in water quikly sugar, salt...   \n",
       "...      ...                                                ...   \n",
       "9996    9996                            Stphen william hawking?   \n",
       "9997    9997  Mathematical Puzzles: What is () + () + () = 3...   \n",
       "9998    9998                         Is IMS noida good for BCA?   \n",
       "9999    9999  What are the most respected and informative te...   \n",
       "10000  10000  Is it safe for a woman to travel alone in Viet...   \n",
       "\n",
       "                                               question2  is_duplicate  \n",
       "0      What is the step by step guide to invest in sh...             0  \n",
       "1      What would happen if the Indian government sto...             0  \n",
       "2      How can Internet speed be increased by hacking...             0  \n",
       "3      Find the remainder when [math]23^{24}[/math] i...             0  \n",
       "4                Which fish would survive in salt water?             0  \n",
       "...                                                  ...           ...  \n",
       "9996   What are the differences between SM, YG and JY...             0  \n",
       "9997   What are the steps to solve this equation: [ma...             0  \n",
       "9998             How good is IMS Noida for studying BCA?             1  \n",
       "9999   What are Caltech's required and recommended te...             0  \n",
       "10000   Is it safe for a woman to travel alone in Japan?             0  \n",
       "\n",
       "[10001 rows x 4 columns]"
      ]
     },
     "execution_count": 3,
     "metadata": {},
     "output_type": "execute_result"
    }
   ],
   "source": [
    "df=pd.read_csv(\"question2_.csv\")\n",
    "df"
   ]
  },
  {
   "cell_type": "code",
   "execution_count": 4,
   "id": "5760b100-b21d-423a-9d7b-ada321a83c6c",
   "metadata": {
    "tags": []
   },
   "outputs": [
    {
     "data": {
      "text/html": [
       "<div>\n",
       "<style scoped>\n",
       "    .dataframe tbody tr th:only-of-type {\n",
       "        vertical-align: middle;\n",
       "    }\n",
       "\n",
       "    .dataframe tbody tr th {\n",
       "        vertical-align: top;\n",
       "    }\n",
       "\n",
       "    .dataframe thead th {\n",
       "        text-align: right;\n",
       "    }\n",
       "</style>\n",
       "<table border=\"1\" class=\"dataframe\">\n",
       "  <thead>\n",
       "    <tr style=\"text-align: right;\">\n",
       "      <th></th>\n",
       "      <th>id</th>\n",
       "      <th>question1</th>\n",
       "      <th>question2</th>\n",
       "      <th>is_duplicate</th>\n",
       "    </tr>\n",
       "  </thead>\n",
       "  <tbody>\n",
       "    <tr>\n",
       "      <th>0</th>\n",
       "      <td>0</td>\n",
       "      <td>What is the step by step guide to invest in sh...</td>\n",
       "      <td>What is the step by step guide to invest in sh...</td>\n",
       "      <td>0</td>\n",
       "    </tr>\n",
       "    <tr>\n",
       "      <th>1</th>\n",
       "      <td>1</td>\n",
       "      <td>What is the story of Kohinoor (Koh-i-Noor) Dia...</td>\n",
       "      <td>What would happen if the Indian government sto...</td>\n",
       "      <td>0</td>\n",
       "    </tr>\n",
       "    <tr>\n",
       "      <th>2</th>\n",
       "      <td>2</td>\n",
       "      <td>How can I increase the speed of my internet co...</td>\n",
       "      <td>How can Internet speed be increased by hacking...</td>\n",
       "      <td>0</td>\n",
       "    </tr>\n",
       "    <tr>\n",
       "      <th>3</th>\n",
       "      <td>3</td>\n",
       "      <td>Why am I mentally very lonely? How can I solve...</td>\n",
       "      <td>Find the remainder when [math]23^{24}[/math] i...</td>\n",
       "      <td>0</td>\n",
       "    </tr>\n",
       "    <tr>\n",
       "      <th>4</th>\n",
       "      <td>4</td>\n",
       "      <td>Which one dissolve in water quikly sugar, salt...</td>\n",
       "      <td>Which fish would survive in salt water?</td>\n",
       "      <td>0</td>\n",
       "    </tr>\n",
       "  </tbody>\n",
       "</table>\n",
       "</div>"
      ],
      "text/plain": [
       "   id                                          question1  \\\n",
       "0   0  What is the step by step guide to invest in sh...   \n",
       "1   1  What is the story of Kohinoor (Koh-i-Noor) Dia...   \n",
       "2   2  How can I increase the speed of my internet co...   \n",
       "3   3  Why am I mentally very lonely? How can I solve...   \n",
       "4   4  Which one dissolve in water quikly sugar, salt...   \n",
       "\n",
       "                                           question2  is_duplicate  \n",
       "0  What is the step by step guide to invest in sh...             0  \n",
       "1  What would happen if the Indian government sto...             0  \n",
       "2  How can Internet speed be increased by hacking...             0  \n",
       "3  Find the remainder when [math]23^{24}[/math] i...             0  \n",
       "4            Which fish would survive in salt water?             0  "
      ]
     },
     "execution_count": 4,
     "metadata": {},
     "output_type": "execute_result"
    }
   ],
   "source": [
    "df.head()"
   ]
  },
  {
   "cell_type": "code",
   "execution_count": 5,
   "id": "70801b96-3629-4f74-9c57-2481a302c935",
   "metadata": {
    "tags": []
   },
   "outputs": [
    {
     "name": "stdout",
     "output_type": "stream",
     "text": [
      "<class 'pandas.core.frame.DataFrame'>\n",
      "RangeIndex: 10001 entries, 0 to 10000\n",
      "Data columns (total 4 columns):\n",
      " #   Column        Non-Null Count  Dtype \n",
      "---  ------        --------------  ----- \n",
      " 0   id            10001 non-null  int64 \n",
      " 1   question1     10001 non-null  object\n",
      " 2   question2     10001 non-null  object\n",
      " 3   is_duplicate  10001 non-null  int64 \n",
      "dtypes: int64(2), object(2)\n",
      "memory usage: 312.7+ KB\n"
     ]
    }
   ],
   "source": [
    "df.info()"
   ]
  },
  {
   "cell_type": "markdown",
   "id": "66ce3067-3b79-472f-9ab9-365be1830378",
   "metadata": {},
   "source": [
    "### Data Preprocessing ###\n",
    "**we starts data preprocessing from identifying the null values**\n",
    "- check for and handle any missing values (NaN).\n",
    "This code checks for missing values in the DataFrame and returns a Boolean value for each column to indicate whether it contains missing values."
   ]
  },
  {
   "cell_type": "code",
   "execution_count": 6,
   "id": "ac9f8e15-5758-412f-b788-8fbd93698aab",
   "metadata": {
    "tags": []
   },
   "outputs": [
    {
     "data": {
      "text/plain": [
       "id              False\n",
       "question1       False\n",
       "question2       False\n",
       "is_duplicate    False\n",
       "dtype: bool"
      ]
     },
     "execution_count": 6,
     "metadata": {},
     "output_type": "execute_result"
    }
   ],
   "source": [
    "df.isnull().any()"
   ]
  },
  {
   "cell_type": "markdown",
   "id": "e995eb4f-8d3e-4c78-994e-ef342e63ef63",
   "metadata": {},
   "source": [
    "- The resulting stop_words variable contains a set of English stopwords \n",
    "- which is used later to filter out common words from text data during text preprocessing. \n",
    "**for example,**\n",
    "\n",
    "Articles: \"a,\" \"an,\" \"the\"\n",
    "Prepositions: \"in,\" \"on,\" \"at,\" \"by,\" \"with\"\n",
    "Conjunctions: \"and,\" \"but,\" \"or,\" \"because\""
   ]
  },
  {
   "cell_type": "code",
   "execution_count": 7,
   "id": "e93f1aa4-3ca9-42bd-893a-8fac17c0c0e1",
   "metadata": {
    "tags": []
   },
   "outputs": [],
   "source": [
    "stop_words=set(stopwords.words('english'))"
   ]
  },
  {
   "cell_type": "markdown",
   "id": "0787e136-dded-4938-9121-75c5f3c4675a",
   "metadata": {},
   "source": [
    "#### tokenization:split text into words ####\n",
    "- Here we define a function preprocess_text(text) to process the text data:\n",
    "- If the text is a string (not NaN or float), tokenize the text into individual words.\n",
    "- convert all words to lowercase.\n",
    "- remove common English stopwords and punctuation.\n",
    "- Finally, you join the cleaned words back into a single string."
   ]
  },
  {
   "cell_type": "code",
   "execution_count": 8,
   "id": "1ee4a53f-2491-4cbb-a18d-779b6c4a1d94",
   "metadata": {
    "tags": []
   },
   "outputs": [],
   "source": [
    "def preprocess_text(text):\n",
    "    if isinstance(text, str):\n",
    "        words=text.split()\n",
    "        clean_words = [word.lower() for word in words if word.lower()  not in stop_words and word not in string.punctuation]\n",
    "        clean_text=' '.join(clean_words) \n",
    "        return clean_text\n",
    "    else:\n",
    "        return '' "
   ]
  },
  {
   "cell_type": "markdown",
   "id": "ae60fb34-7bfe-4cbf-bfd6-77912740a5a6",
   "metadata": {},
   "source": [
    "##### **Here we apply this text preprocessing function to both 'question1' and 'question2' columns.** #####"
   ]
  },
  {
   "cell_type": "code",
   "execution_count": 9,
   "id": "12d52341-ce11-473d-85cc-429b6f56fafb",
   "metadata": {
    "tags": []
   },
   "outputs": [],
   "source": [
    "df['question1'] = df['question1'].apply(preprocess_text)\n",
    "df['question2'] = df['question2'].apply(preprocess_text)"
   ]
  },
  {
   "cell_type": "markdown",
   "id": "1446703c-1135-41b9-842e-593fea7b6d98",
   "metadata": {},
   "source": [
    "### Feature Extraction (TF-IDF Vectorization) ###\n",
    "It is a technique in natural language processing where text documents are transformed into numerical vectors based on word frequencies,\n",
    "emphasizing the importance of words in a document relative to a larger corpus."
   ]
  },
  {
   "cell_type": "code",
   "execution_count": 10,
   "id": "bc3cb20c-20ae-4db5-931f-445fa6d7b3b5",
   "metadata": {
    "tags": []
   },
   "outputs": [],
   "source": [
    "from sklearn.feature_extraction.text import TfidfVectorizer"
   ]
  },
  {
   "cell_type": "markdown",
   "id": "8a551f59-3097-47cc-8248-94b232361ebe",
   "metadata": {},
   "source": [
    "- Here we create an instance of the TfidfVectorizer with specific configurations:\n",
    "- max_features: The maximum number of features to consider (adjustable).\n",
    "- ngram_range: Consider both unigrams and bigrams.\n",
    "- stop_words: Remove common English stopwords."
   ]
  },
  {
   "cell_type": "code",
   "execution_count": 11,
   "id": "8b55f3a5-78a4-49f0-b450-c634e9bc1d7a",
   "metadata": {
    "tags": []
   },
   "outputs": [],
   "source": [
    "tfidf_vectorizer = TfidfVectorizer(max_features=404351,  \n",
    "                                   ngram_range=(1, 2), \n",
    "                                   stop_words='english')"
   ]
  },
  {
   "cell_type": "markdown",
   "id": "faab6dc2-7c0e-4035-874c-a5c7db0f0709",
   "metadata": {},
   "source": [
    "##### Here we fit this vectorizer on the combined text from 'question1' and 'question2' in your DataFrame, creating a TF-IDF matrix named 'tfidf_matrix'. #####"
   ]
  },
  {
   "cell_type": "code",
   "execution_count": 12,
   "id": "016b3e19-c58a-40a4-b98c-7f28db22e601",
   "metadata": {
    "tags": []
   },
   "outputs": [],
   "source": [
    "# Fit and transform the vectorizer on the text data\n",
    "tfidf_matrix = tfidf_vectorizer.fit_transform(df['question1'] + ' ' + df['question2'])"
   ]
  },
  {
   "cell_type": "markdown",
   "id": "4d36cc43-675f-4984-8d73-a38def2ebd55",
   "metadata": {},
   "source": [
    "### Splitting Data for Training and Testing ###"
   ]
  },
  {
   "cell_type": "code",
   "execution_count": 13,
   "id": "28ae9d2c-5261-400a-8d91-e798c7343ba8",
   "metadata": {
    "tags": []
   },
   "outputs": [],
   "source": [
    "#Model selection\n",
    "from sklearn.model_selection import train_test_split"
   ]
  },
  {
   "cell_type": "markdown",
   "id": "bfb70e5d-12c3-4bd7-8b90-24c74a0dbcac",
   "metadata": {},
   "source": [
    "##### The feature matrix 'x' contains the TF-IDF transformed data.\n",
    "##### The target variable 'y' contains the 'is_duplicate' labels. #####"
   ]
  },
  {
   "cell_type": "code",
   "execution_count": 14,
   "id": "ef8e6e1f-5f09-4a49-9349-1eec13bc9689",
   "metadata": {
    "tags": []
   },
   "outputs": [],
   "source": [
    "x=tfidf_matrix\n",
    "y=df['is_duplicate']"
   ]
  },
  {
   "cell_type": "markdown",
   "id": "33910997-d728-466a-a7b4-335be22fa983",
   "metadata": {},
   "source": [
    "- we split our data into training and testing sets using train_test_split from scikit-learn.\n",
    "- we set aside 80% of the data for training and 20% for testing."
   ]
  },
  {
   "cell_type": "code",
   "execution_count": 15,
   "id": "4e9b746f-6450-4004-8e00-c73b83d7571f",
   "metadata": {
    "tags": []
   },
   "outputs": [],
   "source": [
    "x_train, x_test, y_train, y_test = train_test_split(x, y, test_size=0.2, random_state=42)"
   ]
  },
  {
   "cell_type": "code",
   "execution_count": 16,
   "id": "62faa06a-69b1-4593-a6ab-3cede30ec776",
   "metadata": {
    "tags": []
   },
   "outputs": [
    {
     "data": {
      "text/plain": [
       "(10001, 81881)"
      ]
     },
     "execution_count": 16,
     "metadata": {},
     "output_type": "execute_result"
    }
   ],
   "source": [
    "x.shape"
   ]
  },
  {
   "cell_type": "code",
   "execution_count": 17,
   "id": "9cd7fd92-ff0c-46d1-84d7-20fc1e09579c",
   "metadata": {
    "tags": []
   },
   "outputs": [
    {
     "data": {
      "text/plain": [
       "(10001,)"
      ]
     },
     "execution_count": 17,
     "metadata": {},
     "output_type": "execute_result"
    }
   ],
   "source": [
    "y.shape"
   ]
  },
  {
   "cell_type": "markdown",
   "id": "f9541f35-9f60-412c-8bfa-fe0ff1769e33",
   "metadata": {
    "tags": []
   },
   "source": [
    "### Training a Logistic Regression Model ###\n",
    "- import the LogisticRegression model from scikit-learn.\n",
    "- create an instance of the logistic regression model with a specified maximum number of iterations.\n",
    "- train this model using the training data (x_train and y_train) with the fit method.\n",
    "- The trained model is used to make predictions on the test data (x_test) with predict."
   ]
  },
  {
   "cell_type": "code",
   "execution_count": 18,
   "id": "3259fd94-10e8-4c27-ab11-1ff175b79851",
   "metadata": {
    "tags": []
   },
   "outputs": [],
   "source": [
    "from sklearn.linear_model import LogisticRegression"
   ]
  },
  {
   "cell_type": "code",
   "execution_count": 19,
   "id": "8af09971-aaf9-4111-ae8c-1ac8e2671210",
   "metadata": {
    "tags": []
   },
   "outputs": [
    {
     "data": {
      "text/html": [
       "<style>#sk-container-id-1 {color: black;}#sk-container-id-1 pre{padding: 0;}#sk-container-id-1 div.sk-toggleable {background-color: white;}#sk-container-id-1 label.sk-toggleable__label {cursor: pointer;display: block;width: 100%;margin-bottom: 0;padding: 0.3em;box-sizing: border-box;text-align: center;}#sk-container-id-1 label.sk-toggleable__label-arrow:before {content: \"▸\";float: left;margin-right: 0.25em;color: #696969;}#sk-container-id-1 label.sk-toggleable__label-arrow:hover:before {color: black;}#sk-container-id-1 div.sk-estimator:hover label.sk-toggleable__label-arrow:before {color: black;}#sk-container-id-1 div.sk-toggleable__content {max-height: 0;max-width: 0;overflow: hidden;text-align: left;background-color: #f0f8ff;}#sk-container-id-1 div.sk-toggleable__content pre {margin: 0.2em;color: black;border-radius: 0.25em;background-color: #f0f8ff;}#sk-container-id-1 input.sk-toggleable__control:checked~div.sk-toggleable__content {max-height: 200px;max-width: 100%;overflow: auto;}#sk-container-id-1 input.sk-toggleable__control:checked~label.sk-toggleable__label-arrow:before {content: \"▾\";}#sk-container-id-1 div.sk-estimator input.sk-toggleable__control:checked~label.sk-toggleable__label {background-color: #d4ebff;}#sk-container-id-1 div.sk-label input.sk-toggleable__control:checked~label.sk-toggleable__label {background-color: #d4ebff;}#sk-container-id-1 input.sk-hidden--visually {border: 0;clip: rect(1px 1px 1px 1px);clip: rect(1px, 1px, 1px, 1px);height: 1px;margin: -1px;overflow: hidden;padding: 0;position: absolute;width: 1px;}#sk-container-id-1 div.sk-estimator {font-family: monospace;background-color: #f0f8ff;border: 1px dotted black;border-radius: 0.25em;box-sizing: border-box;margin-bottom: 0.5em;}#sk-container-id-1 div.sk-estimator:hover {background-color: #d4ebff;}#sk-container-id-1 div.sk-parallel-item::after {content: \"\";width: 100%;border-bottom: 1px solid gray;flex-grow: 1;}#sk-container-id-1 div.sk-label:hover label.sk-toggleable__label {background-color: #d4ebff;}#sk-container-id-1 div.sk-serial::before {content: \"\";position: absolute;border-left: 1px solid gray;box-sizing: border-box;top: 0;bottom: 0;left: 50%;z-index: 0;}#sk-container-id-1 div.sk-serial {display: flex;flex-direction: column;align-items: center;background-color: white;padding-right: 0.2em;padding-left: 0.2em;position: relative;}#sk-container-id-1 div.sk-item {position: relative;z-index: 1;}#sk-container-id-1 div.sk-parallel {display: flex;align-items: stretch;justify-content: center;background-color: white;position: relative;}#sk-container-id-1 div.sk-item::before, #sk-container-id-1 div.sk-parallel-item::before {content: \"\";position: absolute;border-left: 1px solid gray;box-sizing: border-box;top: 0;bottom: 0;left: 50%;z-index: -1;}#sk-container-id-1 div.sk-parallel-item {display: flex;flex-direction: column;z-index: 1;position: relative;background-color: white;}#sk-container-id-1 div.sk-parallel-item:first-child::after {align-self: flex-end;width: 50%;}#sk-container-id-1 div.sk-parallel-item:last-child::after {align-self: flex-start;width: 50%;}#sk-container-id-1 div.sk-parallel-item:only-child::after {width: 0;}#sk-container-id-1 div.sk-dashed-wrapped {border: 1px dashed gray;margin: 0 0.4em 0.5em 0.4em;box-sizing: border-box;padding-bottom: 0.4em;background-color: white;}#sk-container-id-1 div.sk-label label {font-family: monospace;font-weight: bold;display: inline-block;line-height: 1.2em;}#sk-container-id-1 div.sk-label-container {text-align: center;}#sk-container-id-1 div.sk-container {/* jupyter's `normalize.less` sets `[hidden] { display: none; }` but bootstrap.min.css set `[hidden] { display: none !important; }` so we also need the `!important` here to be able to override the default hidden behavior on the sphinx rendered scikit-learn.org. See: https://github.com/scikit-learn/scikit-learn/issues/21755 */display: inline-block !important;position: relative;}#sk-container-id-1 div.sk-text-repr-fallback {display: none;}</style><div id=\"sk-container-id-1\" class=\"sk-top-container\"><div class=\"sk-text-repr-fallback\"><pre>LogisticRegression(max_iter=1000)</pre><b>In a Jupyter environment, please rerun this cell to show the HTML representation or trust the notebook. <br />On GitHub, the HTML representation is unable to render, please try loading this page with nbviewer.org.</b></div><div class=\"sk-container\" hidden><div class=\"sk-item\"><div class=\"sk-estimator sk-toggleable\"><input class=\"sk-toggleable__control sk-hidden--visually\" id=\"sk-estimator-id-1\" type=\"checkbox\" checked><label for=\"sk-estimator-id-1\" class=\"sk-toggleable__label sk-toggleable__label-arrow\">LogisticRegression</label><div class=\"sk-toggleable__content\"><pre>LogisticRegression(max_iter=1000)</pre></div></div></div></div></div>"
      ],
      "text/plain": [
       "LogisticRegression(max_iter=1000)"
      ]
     },
     "execution_count": 19,
     "metadata": {},
     "output_type": "execute_result"
    }
   ],
   "source": [
    "logistic_regression_model = LogisticRegression(max_iter=1000)\n",
    "logistic_regression_model.fit(x_train, y_train)"
   ]
  },
  {
   "cell_type": "code",
   "execution_count": 20,
   "id": "648911df-e3ea-44f7-8288-71b759aef436",
   "metadata": {
    "tags": []
   },
   "outputs": [
    {
     "data": {
      "text/plain": [
       "array([0, 1, 0, ..., 0, 0, 1], dtype=int64)"
      ]
     },
     "execution_count": 20,
     "metadata": {},
     "output_type": "execute_result"
    }
   ],
   "source": [
    "y_pred = logistic_regression_model.predict(x_test)\n",
    "y_pred"
   ]
  },
  {
   "cell_type": "markdown",
   "id": "ac3b262d-75d8-48c2-887e-9d5b7ecdc010",
   "metadata": {},
   "source": [
    "##### calculate and print accuracy and precision scores for model evaluation using scikit-learn metrics."
   ]
  },
  {
   "cell_type": "code",
   "execution_count": 21,
   "id": "bab8bea8-45de-4e98-97d8-3472fc22e093",
   "metadata": {
    "tags": []
   },
   "outputs": [
    {
     "name": "stdout",
     "output_type": "stream",
     "text": [
      "Accuracy: 0.70\n",
      "Precision: 0.74\n"
     ]
    }
   ],
   "source": [
    "from sklearn.metrics import accuracy_score,precision_score\n",
    "accuracy = accuracy_score(y_test, y_pred)\n",
    "precision = precision_score(y_test, y_pred)\n",
    "print(f\"Accuracy: {accuracy:.2f}\")\n",
    "print(f\"Precision: {precision:.2f}\")"
   ]
  },
  {
   "cell_type": "markdown",
   "id": "8425ad7a-af8b-4180-ace4-b38b3b4e48df",
   "metadata": {},
   "source": [
    "##### A confusion matrix is a table used to evaluate the performance of a classification model. #####\n",
    "##### It displays true positive, true negative, false positive, and false negative counts.\n",
    "##### The code uses seaborn to create a heatmap of the confusion matrix with annotations.\n",
    "##### It helps assess the model's accuracy, precision, recall, and F1-score."
   ]
  },
  {
   "cell_type": "code",
   "execution_count": 22,
   "id": "f25e3ac8-52ab-4f52-b29e-643f02522a5a",
   "metadata": {
    "tags": []
   },
   "outputs": [
    {
     "data": {
      "image/png": "[encoded data removed]",
      "text/plain": [
       "<Figure size 640x480 with 2 Axes>"
      ]
     },
     "metadata": {},
     "output_type": "display_data"
    }
   ],
   "source": [
    "#This code generates a confusion matrix to visualize the performance of the Logistic Regression model.\n",
    "from sklearn.metrics import confusion_matrix\n",
    "import seaborn as sns\n",
    "import matplotlib.pyplot as plt\n",
    "cm = confusion_matrix(y_test, y_pred)\n",
    "sns.heatmap(cm, annot=True, fmt='d', cmap='Blues')\n",
    "plt.xlabel('Predicted')\n",
    "plt.ylabel('True')\n",
    "plt.title('Confusion Matrix')\n",
    "plt.show()"
   ]
  },
  {
   "cell_type": "markdown",
   "id": "cc841fb6-ead0-44a6-b9b9-b81f9d4fb011",
   "metadata": {},
   "source": [
    "### Training a Support Vector Machine (SVM) Classifier"
   ]
  },
  {
   "cell_type": "markdown",
   "id": "393ecff1-ccad-44ea-93ee-4b6e3ba33124",
   "metadata": {},
   "source": [
    "- we import the Support Vector Machine classifier (SVC) from scikit-learn.\n",
    "- we create an instance of the SVM classifier.\n",
    "- we train this classifier using the training data and evaluate its performance by calculating accuracy and precision."
   ]
  },
  {
   "cell_type": "code",
   "execution_count": 23,
   "id": "7c203a27-3015-4759-844f-c12772d31e11",
   "metadata": {
    "tags": []
   },
   "outputs": [],
   "source": [
    "from sklearn.svm import SVC"
   ]
  },
  {
   "cell_type": "code",
   "execution_count": 24,
   "id": "6235a84b-a3ee-4feb-81bc-83f09ace3513",
   "metadata": {
    "tags": []
   },
   "outputs": [],
   "source": [
    "svm_classifier = SVC()"
   ]
  },
  {
   "cell_type": "code",
   "execution_count": 25,
   "id": "43a8f42a-6d48-4601-aad5-2e4b8760e5d8",
   "metadata": {
    "tags": []
   },
   "outputs": [
    {
     "data": {
      "text/html": [
       "<style>#sk-container-id-2 {color: black;}#sk-container-id-2 pre{padding: 0;}#sk-container-id-2 div.sk-toggleable {background-color: white;}#sk-container-id-2 label.sk-toggleable__label {cursor: pointer;display: block;width: 100%;margin-bottom: 0;padding: 0.3em;box-sizing: border-box;text-align: center;}#sk-container-id-2 label.sk-toggleable__label-arrow:before {content: \"▸\";float: left;margin-right: 0.25em;color: #696969;}#sk-container-id-2 label.sk-toggleable__label-arrow:hover:before {color: black;}#sk-container-id-2 div.sk-estimator:hover label.sk-toggleable__label-arrow:before {color: black;}#sk-container-id-2 div.sk-toggleable__content {max-height: 0;max-width: 0;overflow: hidden;text-align: left;background-color: #f0f8ff;}#sk-container-id-2 div.sk-toggleable__content pre {margin: 0.2em;color: black;border-radius: 0.25em;background-color: #f0f8ff;}#sk-container-id-2 input.sk-toggleable__control:checked~div.sk-toggleable__content {max-height: 200px;max-width: 100%;overflow: auto;}#sk-container-id-2 input.sk-toggleable__control:checked~label.sk-toggleable__label-arrow:before {content: \"▾\";}#sk-container-id-2 div.sk-estimator input.sk-toggleable__control:checked~label.sk-toggleable__label {background-color: #d4ebff;}#sk-container-id-2 div.sk-label input.sk-toggleable__control:checked~label.sk-toggleable__label {background-color: #d4ebff;}#sk-container-id-2 input.sk-hidden--visually {border: 0;clip: rect(1px 1px 1px 1px);clip: rect(1px, 1px, 1px, 1px);height: 1px;margin: -1px;overflow: hidden;padding: 0;position: absolute;width: 1px;}#sk-container-id-2 div.sk-estimator {font-family: monospace;background-color: #f0f8ff;border: 1px dotted black;border-radius: 0.25em;box-sizing: border-box;margin-bottom: 0.5em;}#sk-container-id-2 div.sk-estimator:hover {background-color: #d4ebff;}#sk-container-id-2 div.sk-parallel-item::after {content: \"\";width: 100%;border-bottom: 1px solid gray;flex-grow: 1;}#sk-container-id-2 div.sk-label:hover label.sk-toggleable__label {background-color: #d4ebff;}#sk-container-id-2 div.sk-serial::before {content: \"\";position: absolute;border-left: 1px solid gray;box-sizing: border-box;top: 0;bottom: 0;left: 50%;z-index: 0;}#sk-container-id-2 div.sk-serial {display: flex;flex-direction: column;align-items: center;background-color: white;padding-right: 0.2em;padding-left: 0.2em;position: relative;}#sk-container-id-2 div.sk-item {position: relative;z-index: 1;}#sk-container-id-2 div.sk-parallel {display: flex;align-items: stretch;justify-content: center;background-color: white;position: relative;}#sk-container-id-2 div.sk-item::before, #sk-container-id-2 div.sk-parallel-item::before {content: \"\";position: absolute;border-left: 1px solid gray;box-sizing: border-box;top: 0;bottom: 0;left: 50%;z-index: -1;}#sk-container-id-2 div.sk-parallel-item {display: flex;flex-direction: column;z-index: 1;position: relative;background-color: white;}#sk-container-id-2 div.sk-parallel-item:first-child::after {align-self: flex-end;width: 50%;}#sk-container-id-2 div.sk-parallel-item:last-child::after {align-self: flex-start;width: 50%;}#sk-container-id-2 div.sk-parallel-item:only-child::after {width: 0;}#sk-container-id-2 div.sk-dashed-wrapped {border: 1px dashed gray;margin: 0 0.4em 0.5em 0.4em;box-sizing: border-box;padding-bottom: 0.4em;background-color: white;}#sk-container-id-2 div.sk-label label {font-family: monospace;font-weight: bold;display: inline-block;line-height: 1.2em;}#sk-container-id-2 div.sk-label-container {text-align: center;}#sk-container-id-2 div.sk-container {/* jupyter's `normalize.less` sets `[hidden] { display: none; }` but bootstrap.min.css set `[hidden] { display: none !important; }` so we also need the `!important` here to be able to override the default hidden behavior on the sphinx rendered scikit-learn.org. See: https://github.com/scikit-learn/scikit-learn/issues/21755 */display: inline-block !important;position: relative;}#sk-container-id-2 div.sk-text-repr-fallback {display: none;}</style><div id=\"sk-container-id-2\" class=\"sk-top-container\"><div class=\"sk-text-repr-fallback\"><pre>SVC()</pre><b>In a Jupyter environment, please rerun this cell to show the HTML representation or trust the notebook. <br />On GitHub, the HTML representation is unable to render, please try loading this page with nbviewer.org.</b></div><div class=\"sk-container\" hidden><div class=\"sk-item\"><div class=\"sk-estimator sk-toggleable\"><input class=\"sk-toggleable__control sk-hidden--visually\" id=\"sk-estimator-id-2\" type=\"checkbox\" checked><label for=\"sk-estimator-id-2\" class=\"sk-toggleable__label sk-toggleable__label-arrow\">SVC</label><div class=\"sk-toggleable__content\"><pre>SVC()</pre></div></div></div></div></div>"
      ],
      "text/plain": [
       "SVC()"
      ]
     },
     "execution_count": 25,
     "metadata": {},
     "output_type": "execute_result"
    }
   ],
   "source": [
    "svm_classifier.fit(x_train, y_train)"
   ]
  },
  {
   "cell_type": "code",
   "execution_count": 26,
   "id": "0a2ca4c2-98e6-464d-9b6a-7df9e8fc2f2e",
   "metadata": {
    "tags": []
   },
   "outputs": [],
   "source": [
    "y_pred_svm = svm_classifier.predict(x_test)"
   ]
  },
  {
   "cell_type": "code",
   "execution_count": 27,
   "id": "bcb6078f-24a1-4872-9fba-8d283cd347a6",
   "metadata": {
    "tags": []
   },
   "outputs": [
    {
     "name": "stdout",
     "output_type": "stream",
     "text": [
      "SVM Accuracy: 0.7051474262868566\n",
      "Precision for SVM: 0.77\n"
     ]
    }
   ],
   "source": [
    "accuracy_svm = accuracy_score(y_test, y_pred_svm)\n",
    "precision_svm = precision_score(y_test, y_pred_svm)\n",
    "print(\"SVM Accuracy:\", accuracy_svm)\n",
    "print(f\"Precision for SVM: {precision_svm:.2f}\")"
   ]
  },
  {
   "cell_type": "markdown",
   "id": "26fc3397-b4f6-4e52-afb6-9e7453c942fd",
   "metadata": {},
   "source": [
    "### Training a Decision Tree Classifier:"
   ]
  },
  {
   "cell_type": "markdown",
   "id": "8e5f47eb-e684-4370-b398-906c2c0513ee",
   "metadata": {},
   "source": [
    "- we import the DecisionTreeClassifier from scikit-learn.\n",
    "- we create an instance of the decision tree classifier.\n",
    "- Then train this classifier using the training data and evaluate its performance by calculating accuracy and precision."
   ]
  },
  {
   "cell_type": "code",
   "execution_count": 28,
   "id": "8df714fc-74dc-4bf2-961c-8885dd8bc2d3",
   "metadata": {
    "tags": []
   },
   "outputs": [],
   "source": [
    "from sklearn.tree import DecisionTreeClassifier"
   ]
  },
  {
   "cell_type": "code",
   "execution_count": 29,
   "id": "cd1fedb7-9a5a-47da-8258-1ff9b46b1ff1",
   "metadata": {
    "tags": []
   },
   "outputs": [],
   "source": [
    "decision_tree_classifier = DecisionTreeClassifier()"
   ]
  },
  {
   "cell_type": "code",
   "execution_count": 30,
   "id": "5a52d7b9-0c7f-46d8-b626-cdddb3a16084",
   "metadata": {
    "tags": []
   },
   "outputs": [
    {
     "data": {
      "text/html": [
       "<style>#sk-container-id-3 {color: black;}#sk-container-id-3 pre{padding: 0;}#sk-container-id-3 div.sk-toggleable {background-color: white;}#sk-container-id-3 label.sk-toggleable__label {cursor: pointer;display: block;width: 100%;margin-bottom: 0;padding: 0.3em;box-sizing: border-box;text-align: center;}#sk-container-id-3 label.sk-toggleable__label-arrow:before {content: \"▸\";float: left;margin-right: 0.25em;color: #696969;}#sk-container-id-3 label.sk-toggleable__label-arrow:hover:before {color: black;}#sk-container-id-3 div.sk-estimator:hover label.sk-toggleable__label-arrow:before {color: black;}#sk-container-id-3 div.sk-toggleable__content {max-height: 0;max-width: 0;overflow: hidden;text-align: left;background-color: #f0f8ff;}#sk-container-id-3 div.sk-toggleable__content pre {margin: 0.2em;color: black;border-radius: 0.25em;background-color: #f0f8ff;}#sk-container-id-3 input.sk-toggleable__control:checked~div.sk-toggleable__content {max-height: 200px;max-width: 100%;overflow: auto;}#sk-container-id-3 input.sk-toggleable__control:checked~label.sk-toggleable__label-arrow:before {content: \"▾\";}#sk-container-id-3 div.sk-estimator input.sk-toggleable__control:checked~label.sk-toggleable__label {background-color: #d4ebff;}#sk-container-id-3 div.sk-label input.sk-toggleable__control:checked~label.sk-toggleable__label {background-color: #d4ebff;}#sk-container-id-3 input.sk-hidden--visually {border: 0;clip: rect(1px 1px 1px 1px);clip: rect(1px, 1px, 1px, 1px);height: 1px;margin: -1px;overflow: hidden;padding: 0;position: absolute;width: 1px;}#sk-container-id-3 div.sk-estimator {font-family: monospace;background-color: #f0f8ff;border: 1px dotted black;border-radius: 0.25em;box-sizing: border-box;margin-bottom: 0.5em;}#sk-container-id-3 div.sk-estimator:hover {background-color: #d4ebff;}#sk-container-id-3 div.sk-parallel-item::after {content: \"\";width: 100%;border-bottom: 1px solid gray;flex-grow: 1;}#sk-container-id-3 div.sk-label:hover label.sk-toggleable__label {background-color: #d4ebff;}#sk-container-id-3 div.sk-serial::before {content: \"\";position: absolute;border-left: 1px solid gray;box-sizing: border-box;top: 0;bottom: 0;left: 50%;z-index: 0;}#sk-container-id-3 div.sk-serial {display: flex;flex-direction: column;align-items: center;background-color: white;padding-right: 0.2em;padding-left: 0.2em;position: relative;}#sk-container-id-3 div.sk-item {position: relative;z-index: 1;}#sk-container-id-3 div.sk-parallel {display: flex;align-items: stretch;justify-content: center;background-color: white;position: relative;}#sk-container-id-3 div.sk-item::before, #sk-container-id-3 div.sk-parallel-item::before {content: \"\";position: absolute;border-left: 1px solid gray;box-sizing: border-box;top: 0;bottom: 0;left: 50%;z-index: -1;}#sk-container-id-3 div.sk-parallel-item {display: flex;flex-direction: column;z-index: 1;position: relative;background-color: white;}#sk-container-id-3 div.sk-parallel-item:first-child::after {align-self: flex-end;width: 50%;}#sk-container-id-3 div.sk-parallel-item:last-child::after {align-self: flex-start;width: 50%;}#sk-container-id-3 div.sk-parallel-item:only-child::after {width: 0;}#sk-container-id-3 div.sk-dashed-wrapped {border: 1px dashed gray;margin: 0 0.4em 0.5em 0.4em;box-sizing: border-box;padding-bottom: 0.4em;background-color: white;}#sk-container-id-3 div.sk-label label {font-family: monospace;font-weight: bold;display: inline-block;line-height: 1.2em;}#sk-container-id-3 div.sk-label-container {text-align: center;}#sk-container-id-3 div.sk-container {/* jupyter's `normalize.less` sets `[hidden] { display: none; }` but bootstrap.min.css set `[hidden] { display: none !important; }` so we also need the `!important` here to be able to override the default hidden behavior on the sphinx rendered scikit-learn.org. See: https://github.com/scikit-learn/scikit-learn/issues/21755 */display: inline-block !important;position: relative;}#sk-container-id-3 div.sk-text-repr-fallback {display: none;}</style><div id=\"sk-container-id-3\" class=\"sk-top-container\"><div class=\"sk-text-repr-fallback\"><pre>DecisionTreeClassifier()</pre><b>In a Jupyter environment, please rerun this cell to show the HTML representation or trust the notebook. <br />On GitHub, the HTML representation is unable to render, please try loading this page with nbviewer.org.</b></div><div class=\"sk-container\" hidden><div class=\"sk-item\"><div class=\"sk-estimator sk-toggleable\"><input class=\"sk-toggleable__control sk-hidden--visually\" id=\"sk-estimator-id-3\" type=\"checkbox\" checked><label for=\"sk-estimator-id-3\" class=\"sk-toggleable__label sk-toggleable__label-arrow\">DecisionTreeClassifier</label><div class=\"sk-toggleable__content\"><pre>DecisionTreeClassifier()</pre></div></div></div></div></div>"
      ],
      "text/plain": [
       "DecisionTreeClassifier()"
      ]
     },
     "execution_count": 30,
     "metadata": {},
     "output_type": "execute_result"
    }
   ],
   "source": [
    "decision_tree_classifier.fit(x_train, y_train)"
   ]
  },
  {
   "cell_type": "code",
   "execution_count": 31,
   "id": "317a6204-1a07-4d9e-956f-e41e5e73fcc0",
   "metadata": {
    "tags": []
   },
   "outputs": [
    {
     "name": "stdout",
     "output_type": "stream",
     "text": [
      "decision tree Accuracy: 0.67\n",
      "Precision for Decision Tree: 0.56\n"
     ]
    }
   ],
   "source": [
    "y_pred = decision_tree_classifier.predict(x_test)\n",
    "accuracy = accuracy_score(y_test, y_pred)\n",
    "precision_dt = precision_score(y_test, y_pred)\n",
    "print(f\"decision tree Accuracy: {accuracy:.2f}\")\n",
    "print(f\"Precision for Decision Tree: {precision_dt:.2f}\")"
   ]
  },
  {
   "cell_type": "markdown",
   "id": "6862d0ca-0231-44ee-9ea2-21267d008a8c",
   "metadata": {},
   "source": [
    "### Plotting ROC and Precision-Recall Curves (Logistic Regression)\n",
    "\n",
    "##### ROC Curve is a graphical plot that illustrates the trade-off between a binary classification model's true positive rate (sensitivity) and false positive rate (1-specificity) at various threshold settings.\n",
    "\n",
    "##### Precision-Recall Curve is a graphical plot that displays the relationship between precision (positive predictive value) and recall (true positive rate) for different classification model thresholds. It helps assess a model's trade-off between precision and recall."
   ]
  },
  {
   "cell_type": "markdown",
   "id": "ee4e8da3-1287-4ff6-a21a-0a697d8e7115",
   "metadata": {},
   "source": [
    "- First we  import necessary libraries for plotting ROC and Precision-Recall curves.\n",
    "- Then we calculate the False Positive Rate (FPR) and True Positive Rate (TPR).\n",
    "- for the Logistic Regression model to plot the ROC curve and compute the area under the curve (AUC)."
   ]
  },
  {
   "cell_type": "code",
   "execution_count": 32,
   "id": "28c5c9f9-3209-448f-a341-c7795222ce1d",
   "metadata": {
    "tags": []
   },
   "outputs": [
    {
     "data": {
      "image/png": "[encoded data removed]",
      "text/plain": [
       "<Figure size 800x600 with 1 Axes>"
      ]
     },
     "metadata": {},
     "output_type": "display_data"
    }
   ],
   "source": [
    "import matplotlib.pyplot as plt\n",
    "from sklearn.metrics import roc_curve, auc, precision_recall_curve, average_precision_score\n",
    "fpr, tpr, _ = roc_curve(y_test, logistic_regression_model.predict_proba(x_test)[:, 1])\n",
    "roc_auc = auc(fpr, tpr)\n",
    "precision, recall, _ = precision_recall_curve(y_test, logistic_regression_model.predict_proba(x_test)[:, 1])\n",
    "average_precision = average_precision_score(y_test, logistic_regression_model.predict_proba(x_test)[:, 1])\n",
    "# Plot ROC curve\n",
    "plt.figure(figsize=(8, 6))\n",
    "# Plot the ROC curve\n",
    "plt.plot(fpr, tpr, label=f'ROC Curve (AUC = {roc_auc:.2f})')\n",
    "plt.plot([0, 1], [0, 1], linestyle='--', color='r', label='Random')\n",
    "plt.xlabel('False Positive Rate')\n",
    "plt.ylabel('True Positive Rate')\n",
    "plt.title('Receiver Operating Characteristic')\n",
    "plt.legend()\n",
    "plt.show()"
   ]
  },
  {
   "cell_type": "markdown",
   "id": "98e4df37-2240-4ca3-8dea-3ab7350ca7af",
   "metadata": {},
   "source": [
    "- we also calculate and plot the Precision-Recall curve for the Logistic Regression model, calculating the average precision score (AP)."
   ]
  },
  {
   "cell_type": "code",
   "execution_count": 33,
   "id": "0b4d6447-3533-43a7-9759-f2442c9867e8",
   "metadata": {
    "tags": []
   },
   "outputs": [
    {
     "data": {
      "image/png": "[encoded data removed]",
      "text/plain": [
       "<Figure size 800x600 with 1 Axes>"
      ]
     },
     "metadata": {},
     "output_type": "display_data"
    }
   ],
   "source": [
    "#This code generates and plots the Precision-Recall curve for the Logistic Regression model and displays the Average Precision (AP) score.\n",
    "# Plot precision-recall curve\n",
    "plt.figure(figsize=(8, 6))\n",
    "plt.step(recall, precision, color='b', alpha=0.2, where='post')\n",
    "plt.fill_between(recall, precision, step='post', alpha=0.2, color='b')\n",
    "plt.xlabel('Recall')\n",
    "plt.ylabel('Precision')\n",
    "plt.ylim([0.0, 1.05])\n",
    "plt.xlim([0.0, 1.0])\n",
    "plt.title('Precision-Recall Curve: AP={0:0.2f}'.format(average_precision))\n",
    "plt.show()"
   ]
  },
  {
   "cell_type": "markdown",
   "id": "670ec905-e7cc-4e65-8b25-0bd4a8e8a70f",
   "metadata": {},
   "source": [
    "***In conclusion, this project was undertaken for analysis purposes, aiming to determine the most suitable machine learning algorithm for a given dataset. Logistic Regression, Support Vector Machine (SVM), and Decision Tree algorithms were evaluated based on their metric scores, including accuracy, precision, and more. The goal was to select the algorithm that best fits the dataset's characteristics and requirements, ensuring optimal model performance for the specific task at hand. This analysis-driven approach aids in making informed decisions for model selection and deployment in real-world applications.***"
   ]
  },
  {
   "cell_type": "code",
   "execution_count": null,
   "id": "aa96e3f2-7088-4c19-b39a-6f623188c3e5",
   "metadata": {},
   "outputs": [],
   "source": []
  }
 ],
 "metadata": {
  "kernelspec": {
   "display_name": "Python 3 (ipykernel)",
   "language": "python",
   "name": "python3"
  },
  "language_info": {
   "codemirror_mode": {
    "name": "ipython",
    "version": 3
   },
   "file_extension": ".py",
   "mimetype": "text/x-python",
   "name": "python",
   "nbconvert_exporter": "python",
   "pygments_lexer": "ipython3",
   "version": "3.11.4"
  }
 },
 "nbformat": 4,
 "nbformat_minor": 5
}
